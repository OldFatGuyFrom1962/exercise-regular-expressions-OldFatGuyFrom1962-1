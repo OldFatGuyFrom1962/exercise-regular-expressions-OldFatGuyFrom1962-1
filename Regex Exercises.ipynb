{
 "cells": [
  {
   "cell_type": "markdown",
   "metadata": {},
   "source": [
    "# Regular Expressions in Python - Exercises"
   ]
  },
  {
   "cell_type": "code",
   "execution_count": null,
   "metadata": {},
   "outputs": [],
   "source": [
    "# Before doing anything else, run this code block.\n",
    "import re \n",
    "\n",
    "# This makes available the functions in the re module - re.search, re.match, re.findall, etc\n",
    "\n",
    "# Don't worry about understanding the code below just now, it's just for testing purposes\n",
    "def test_regex(regex_name, regex, successful_cases, unsuccessful_cases):\n",
    "    cregex = re.compile(regex)\n",
    "    errors = 0\n",
    "    for case in successful_cases:\n",
    "        if not cregex.search(case):\n",
    "            print(\" \".join([\"Your\",regex_name,\"didn't match\",case]))\n",
    "            errors += 1\n",
    "    for case in unsuccessful_cases:\n",
    "        if cregex.search(case):\n",
    "            print(\" \".join([\"Your\",regex_name,\"matched\",case,\n",
    "                            \"when it wasn't supposed to\"]))\n",
    "            errors += 1\n",
    "    if errors == 0:\n",
    "        print(\"No errors in your \" + regex_name)\n",
    "        \n",
    "print(\"Yay you successfully ran this code block!\")"
   ]
  },
  {
   "cell_type": "code",
   "execution_count": null,
   "metadata": {},
   "outputs": [],
   "source": [
    "# Exercise 1 - Using metacharacters\n",
    "\n",
    "# Match sequences that look like this: A1B C2D - pairs of letter-digit-letter sequences.\n",
    "# Your regular expression should consist of a string of metacharacters\n",
    "# Remember that \\w\n",
    "regex  = r'...' # replace the ellipsis with a suitable regular expression\n",
    "string = 'A1B C2D' \n",
    "string2 = 'X4Y W8T'\n",
    "print(re.match(regex, string))\n",
    "print(re.match(regex, string2))"
   ]
  },
  {
   "cell_type": "code",
   "execution_count": null,
   "metadata": {},
   "outputs": [],
   "source": [
    "# Exercise 1 (continued) - what happens if we try to match a non-matching string?\n",
    "\n",
    "string = 'A1B_C2D' # play around with this and see what happens!\n",
    "re.match(regex, string)"
   ]
  },
  {
   "cell_type": "code",
   "execution_count": null,
   "metadata": {},
   "outputs": [],
   "source": [
    "# Exercise 2 - Specifying custom sets of characters\n",
    "\n",
    "# We saw some metacharacters in the previous slide: \\w, \\d, \\s\n",
    "# Define custom character ranges that are equivalent to these, \n",
    "# WITHOUT using metacharacters (things like \\n are fine)\n",
    "\n",
    "# Exercise 2a\n",
    "digit_regex     = r'[...]' # match definition of \\d\n",
    "\n",
    "# Exercise 2b\n",
    "wordlike_regex  = r'[...]' # match definition of \\w (at least, for English)\n",
    "\n",
    "# Exercise 2c\n",
    "spacelike_regex = r'[...]' # match definition of \\s\n",
    "\n",
    "# No need to edit below this point. Run this code block to see if your answers were correct.\n",
    "\n",
    "test_regex('Digit regex', digit_regex, '0123456789', 'aZ \\t\\n$_')\n",
    "test_regex('Wordlike regex', wordlike_regex, 'ampBLY_058', ' \\t\\n-$')\n",
    "test_regex('Spacelike regex', spacelike_regex, ' \\t\\r\\n', 'ahlB_-$9')"
   ]
  },
  {
   "cell_type": "code",
   "execution_count": null,
   "metadata": {},
   "outputs": [],
   "source": [
    "# Exercise 3 - examples with ^, $, \\b\n",
    "\n",
    "# Go through each line and predict whether there will be a match or not. \n",
    "# Then run this code block and see whether you were right.\n",
    "\n",
    "print(\"Match 1: \", re.search(r'^Hallo$', 'Hallo'))        # Matches: yes/no\n",
    "print(\"Match 2: \", re.search(r'^Hallo$', 'Hallo World'))  # Matches: yes/no\n",
    "print(\"Match 3: \", re.search(r'^Hallo$', 'Well, Hallo!')) # Matches: yes/no\n",
    "\n",
    "print(\"Match 4: \", re.search(r'\\bHallo\\b', 'Well, Hallo!')) # Matches: yes/no\n",
    "print(\"Match 5: \", re.search(r'\\bHallo\\b', 'Harry Potter and the Deathly Hallows')) # Matches: yes/no"
   ]
  },
  {
   "cell_type": "code",
   "execution_count": null,
   "metadata": {},
   "outputs": [],
   "source": [
    "# Exercise 4a - match prices $5.99 and less\n",
    "\n",
    "# Run this code block without changing anything\n",
    "\n",
    "price_regex = r'$[0-5].\\d\\d' # match strings $0.00 to $5.99\n",
    "\n",
    "if not re.match(price_regex, '$3.99'):\n",
    "    print(\"Uh oh, it didn't match!\")\n",
    "    \n",
    "# Why not?"
   ]
  },
  {
   "cell_type": "code",
   "execution_count": null,
   "metadata": {},
   "outputs": [],
   "source": [
    "# Exercise 4b - fixing price regex\n",
    "\n",
    "# Fix the price_regex below and try running this code block\n",
    "price_regex = r'[$][0-5][.]\\d\\d' # Gonna take more than one change!\n",
    "\n",
    "if not re.match(price_regex, '$3.99'):\n",
    "    print(\"Uh oh, it didn't match!\")\n",
    "else :\n",
    "    print(\"Nice, you got it.\")\n",
    "\n",
    "if re.match(price_regex, '$3999'):\n",
    "    print(\"Uh oh, it matched $3999!\")"
   ]
  },
  {
   "cell_type": "code",
   "execution_count": null,
   "metadata": {},
   "outputs": [],
   "source": [
    "# Exercise 4d - checking that metacharacters have their usual meaning within []\n",
    "\n",
    "metacharacter_regex = r'[$^.]'\n",
    "test_regex('Metacharacter regex', metacharacter_regex, ['^$.','$money','wh^^at?'], ['a1','di'])"
   ]
  },
  {
   "cell_type": "code",
   "execution_count": null,
   "metadata": {},
   "outputs": [],
   "source": [
    "# Exercise 5a - Set complements\n",
    "\n",
    "# Let's rearrange the metacharacter_regex above. Why doesn't it work as we wanted?\n",
    "metacharacter_regex = r'[^$.]'\n",
    "test_regex('Metacharacter regex', metacharacter_regex, '^$.', 'a1')\n",
    "\n",
    "# What can we change to make it work, besides rearranging the characters?\n",
    "edited_metacharacter_regex = r'[^$.]'\n",
    "test_regex('Edited Metacharacter regex', edited_metacharacter_regex, '^$.', 'a1')\n",
    "\n",
    "# So, saying \"within character sets [], metacharacters have their regular meaning except backslashes\"\n",
    "# is true EXCEPT that ^ means complement if it's the first character [^...]. Elsewhere, it means the caret character.\n",
    "# This is confusing..."
   ]
  },
  {
   "cell_type": "code",
   "execution_count": null,
   "metadata": {},
   "outputs": [],
   "source": [
    "# Exercise 5b - Set complements\n",
    "\n",
    "# You're processing some DNA sequences and you notice that some of them have been corrupted - \n",
    "# they contain letters other than A,T,C and G! Write a regex that will let you remove the corrupted sequences.\n",
    "\n",
    "not_dna_regex = r'...' # match sequences that contain anything other than A, T, C and G\n",
    "test_regex('Not DNA regex', not_dna_regex, ['ATCHGA', '#*@!'], ['AGGGGGCTAA', 'ACGAT'])\n",
    "\n",
    "# Notice that your regex matches non-alphabetic characters as well!"
   ]
  },
  {
   "cell_type": "code",
   "execution_count": null,
   "metadata": {},
   "outputs": [],
   "source": [
    "# Exercise 5c - Set complements\n",
    "\n",
    "# You're looking at a list of purchases again. \n",
    "# Acme company uses product codes with A,B,C followed by three digits.\n",
    "# Axeme company uses product codes X,Y,Z followed by three digits.\n",
    "# Write a regex to extract lines with just Acme and Axeme's product codes,.\n",
    "# Also, make sure that the product code occurs at the end of the line\n",
    "\n",
    "acme_axeme_regex = r'...'\n",
    "\n",
    "# No need to edit below this line\n",
    "matches = ['This line contains Acme product code C180', \n",
    "           'This line contains Axeme product X007']\n",
    "nonmatches = ['This line contains Hugo\\'s product code J982',\n",
    "              'This line contains an incorrect Axeme product code Z48A',\n",
    "              'This line contains Acme product code C180 but it\\'s not at the end.']\n",
    "test_regex('Acme/Axeme regex', acme_axeme_regex, matches, nonmatches)\n"
   ]
  },
  {
   "cell_type": "code",
   "execution_count": null,
   "metadata": {},
   "outputs": [],
   "source": [
    "# Exercise 6a\n",
    "\n",
    "# Write a regex that matches the words bad, baad, baaad for any arbitrary number of a's\n",
    "\n",
    "animal_farm_bleat_regex = r'...' # replace the ellipsis with your regex\n",
    "test_regex('Animal farm bleat', animal_farm_bleat_regex, ['baaaaaaad', 'This is baaaaaaaaaaad!'], ['bd', 'bacd', 'baaaaa', 'sinbaaaad'])"
   ]
  },
  {
   "cell_type": "code",
   "execution_count": null,
   "metadata": {},
   "outputs": [],
   "source": [
    "# Exercise 6b\n",
    "\n",
    "# Write a regex that matches the word baaad (3 a's) up to baaaaaaaaaad (10 a's).\n",
    "\n",
    "animal_farm_short_bleat_regex = r'...'\n",
    "# no need to edit below this point\n",
    "matches = ['baaaaaaad', 'This is baaaaaaaaaad!']\n",
    "nonmatches = ['bd', 'bacd', 'baaaaa', 'sinbaaaad', 'baad', 'baaaaaaaaaaaaad']\n",
    "test_regex('Animal farm short bleat', animal_farm_short_bleat_regex, matches, nonmatches)"
   ]
  },
  {
   "cell_type": "code",
   "execution_count": null,
   "metadata": {},
   "outputs": [],
   "source": [
    "# Exercise 6c\n",
    "\n",
    "# Write a regex that matches both the strings 'homebrew' and 'home-brew'\n",
    "\n",
    "homebrew_regex = r'...'\n",
    "test_regex('Homebrew regex', homebrew_regex, ['homebrew', 'home-brew'], ['home brew'])"
   ]
  },
  {
   "cell_type": "code",
   "execution_count": null,
   "metadata": {},
   "outputs": [],
   "source": [
    "# Exercise 6d\n",
    "\n",
    "# Following in the footsteps of Ernest Wright Homer, you're writing a book with no E's.\n",
    "# That's right, you can't even use the word 'the'. You decide to filter your wordlist so\n",
    "# contains only words with no E's. Write a regular expression to filter the dictionary.\n",
    "\n",
    "no_e_regex = r'^...$' # replace the ellipsis with a regex that matches only strings without E's. Spaces are acceptable.\n",
    "test_regex('No E regex', no_e_regex, ['Brobdingnag', 'ginormous'], ['never', 'what never?', 'no never', 'Elephant'])\n",
    "\n",
    "# Discuss: why can't we use a regex without the +/*?"
   ]
  },
  {
   "cell_type": "code",
   "execution_count": null,
   "metadata": {},
   "outputs": [],
   "source": [
    "# Exercise 6e\n",
    "\n",
    "# Look at regex 1 and regex 2 defined below. How much of ab_string do you think they will match?\n",
    "regex1 = r'(ab)*'\n",
    "regex2 = r'ab*'\n",
    "ab_string = 'ababababa'\n",
    "\n",
    "# my guess for regex 1:\n",
    "# my guess for regex 2: \n",
    "\n",
    "print(re.match(regex1, ab_string).group(0))\n",
    "print(re.match(regex2, ab_string).group(0))\n",
    "\n",
    "# You can also match repetitions of multiple characters using open and close brackets"
   ]
  },
  {
   "cell_type": "code",
   "execution_count": null,
   "metadata": {},
   "outputs": [],
   "source": [
    "# Exercise 7\n",
    "\n",
    "# Write a regex that matches filenames ending in .doc and .odt\n",
    "\n",
    "word_file_regex = r'...'\n",
    "\n",
    "test_regex('Word file regex', word_file_regex, ['data_science.doc', 'textmining.odt'], ['other.ddt', 'odt'])"
   ]
  },
  {
   "cell_type": "code",
   "execution_count": null,
   "metadata": {},
   "outputs": [],
   "source": [
    "# Exercise 8a\n",
    "\n",
    "# Going back to the E-less book, write a function that takes a list of words\n",
    "# and returns only those words that contain no E's.\n",
    "# An outline of the function has been supplied for you.\n",
    "\n",
    "import re\n",
    "def remove_e_words(wordlist) :\n",
    "    non_e_words = []\n",
    "    \n",
    "    pattern = re.compile(r\"...\") # replace ... with a pattern\n",
    "    \n",
    "    for word in wordlist :\n",
    "        if ...: # replace the ellipsis with your code\n",
    "            non_e_words.append(word)\n",
    "    return(non_e_words)\n",
    "\n",
    "assert remove_e_words(['Acorn', 'Bread', 'Cornflakes', 'Dairy', 'Elephant ears']) == ['Acorn', 'Dairy']\n",
    "\n",
    "# Discuss: does it make sense to use re.match or re.search in this instance?"
   ]
  },
  {
   "cell_type": "code",
   "execution_count": null,
   "metadata": {},
   "outputs": [],
   "source": [
    "# Exercise 8b\n",
    "\n",
    "# You want to filter a list of strings for those containing valid email addresses.\n",
    "# First write a regular expression that checks for a string containing:\n",
    "# (1) some alphanumeric stuff\n",
    "# (2) @ sign\n",
    "# (3) domain name (alphanumeric)\n",
    "# (4) .com, .org, .edu or .net (Okay, this isn't all valid email addresses)\n",
    "\n",
    "email_regex = r'...' # replace this with your regex\n",
    "\n",
    "# Now replace this with the rest of the function you need \n",
    "\n",
    "import re\n",
    "def filter_lines_with_email(list_of_lines):\n",
    "    filtered_lines = list()\n",
    "    pattern = re.compile(r\"...\") # replace ... with your pattern\n",
    "\n",
    "    for line in list_of_lines :\n",
    "        if ...: # replace ellipsis with your code\n",
    "            filtered_lines.append(line)\n",
    "            \n",
    "    return(filtered_lines)\n",
    "\n",
    "line0 = 'This line contains a valid email address amy@gmail.com'\n",
    "line1 = 'This isn\\'t a valid email: @gmail.com'\n",
    "line2 = 'You can contact me at maf@mit.edu, anytime'\n",
    "line3 = 'If you tried to send an email to @@(@$@gmail.com I\\'m sure it would be rejected'\n",
    "\n",
    "assert filter_lines_with_email([line0, line1, line2, line3]) == [line0, line2]"
   ]
  },
  {
   "cell_type": "code",
   "execution_count": null,
   "metadata": {},
   "outputs": [],
   "source": [
    "# Exercise 10\n",
    "\n",
    "# Write a regular expression for finding adverbs (ending in -ly) \n",
    "# and use it in the find_adverbs() function to find all the adverbs in a sentence.\n",
    "\n",
    "adverb_regex = r'...' # replace the ellipsis with your regular expression\n",
    "def find_adverbs(sentence):\n",
    "    \"\"\"Returns a list of adverbs in the supplied sentence\"\"\"\n",
    "    ...\n",
    "    return (...) # return a list of words\n",
    "\n",
    "extremely_bad_writing = \"\"\"Mary swooned breathlessly when her paramour entered the room speedily, \n",
    "relying greatly on his eagle eyes to find his lady-love lying on the bed.\"\"\"\n",
    "\n",
    "try:\n",
    "    assert find_adverbs(extremely_bad_writing) == ['breathlessly', 'speedily', 'greatly']\n",
    "except:\n",
    "    print(\" \".join([\"Got the wrong set:\"] + find_adverbs(extremely_bad_writing)))"
   ]
  }
 ],
 "metadata": {
  "kernelspec": {
   "display_name": "Python 3",
   "language": "python",
   "name": "python3"
  },
  "language_info": {
   "codemirror_mode": {
    "name": "ipython",
    "version": 3
   },
   "file_extension": ".py",
   "mimetype": "text/x-python",
   "name": "python",
   "nbconvert_exporter": "python",
   "pygments_lexer": "ipython3",
   "version": "3.7.3"
  }
 },
 "nbformat": 4,
 "nbformat_minor": 1
}
