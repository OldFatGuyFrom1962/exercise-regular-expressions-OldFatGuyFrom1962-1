{
 "cells": [
  {
   "cell_type": "markdown",
   "metadata": {},
   "source": [
    "# Regular Expressions"
   ]
  },
  {
   "cell_type": "markdown",
   "metadata": {},
   "source": [
    "Regular expressions are a useful way to work with strings in Python. Think of them as a fancy find-and-replace with a languge all their own. Regular expressions are used across many programming languages and text editors, so this knowledge is useful in a lot of places. Regular expressions in Python come in through the `re` package, which you should be able to import as usual: "
   ]
  },
  {
   "cell_type": "code",
   "execution_count": null,
   "metadata": {},
   "outputs": [],
   "source": [
    "import re"
   ]
  },
  {
   "cell_type": "markdown",
   "metadata": {},
   "source": [
    "Let's start with a string to search:"
   ]
  },
  {
   "cell_type": "code",
   "execution_count": null,
   "metadata": {},
   "outputs": [],
   "source": [
    "s = \"The University of Montana: We also play a little football.\""
   ]
  },
  {
   "cell_type": "markdown",
   "metadata": {},
   "source": [
    "Let's define a regular expression to search on. We'll pass it to `compile` for faster searching later on. Note that we're prepending `r` in front of the string to make it a \"raw string\". You don't always have to do that, but it's an excellent habit to get into when working with regular expressions."
   ]
  },
  {
   "cell_type": "code",
   "execution_count": null,
   "metadata": {},
   "outputs": [],
   "source": [
    "pattern = re.compile(r\"Montana\")\n",
    "pattern"
   ]
  },
  {
   "cell_type": "markdown",
   "metadata": {},
   "source": [
    "Next, we can call the `sub()` function from the `re` package on this pattern, in order to replace our pattern with another word, like this:"
   ]
  },
  {
   "cell_type": "code",
   "execution_count": null,
   "metadata": {},
   "outputs": [],
   "source": [
    "text = pattern.sub(\"XXX\", s)\n",
    "print(text)"
   ]
  },
  {
   "cell_type": "markdown",
   "metadata": {},
   "source": [
    "Note the order of the arguments passed to `sub()`: first, the string we'll insert and secondly our original string. We can just as easily get back our original string:"
   ]
  },
  {
   "cell_type": "code",
   "execution_count": null,
   "metadata": {},
   "outputs": [],
   "source": [
    "pattern2 = re.compile(r\"XXX\")\n",
    "text = pattern2.sub(\"Montana\", s)\n",
    "print(text)"
   ]
  },
  {
   "cell_type": "markdown",
   "metadata": {},
   "source": [
    "So far nothing special: we are simply replacing one word for another word. And if you harken back to our previous Python work, you'll recall we could have done this same thing with the `replace()` function. But now: say you would like to replace all vowels in a string. With regular expressions, this is a piece of cake:"
   ]
  },
  {
   "cell_type": "code",
   "execution_count": null,
   "metadata": {},
   "outputs": [],
   "source": [
    "vowel_pattern = re.compile(r\"a|e|o|u|i\")\n",
    "without_vowels = vowel_pattern.sub(\"X\", s)\n",
    "print(without_vowels)"
   ]
  },
  {
   "cell_type": "markdown",
   "metadata": {},
   "source": [
    "Note how our pattern allows for a special syntax: the pipe symbol which we used allows to express that one character OR another one is fine for the regular expression to match. \n",
    "\n",
    "But wait, we missed the capital letter on \"University\". Let's add the uppercase vowels to the regex:   "
   ]
  },
  {
   "cell_type": "code",
   "execution_count": null,
   "metadata": {},
   "outputs": [],
   "source": [
    "vowel_pattern = re.compile(r\"a|A|e|E|o|O|u|U|i|I\")\n",
    "without_vowels = vowel_pattern.sub(\"X\", s)\n",
    "print(without_vowels)"
   ]
  },
  {
   "cell_type": "markdown",
   "metadata": {},
   "source": [
    "There is in fact an easy way to match all lowercase and uppercase characters in a string, like this:"
   ]
  },
  {
   "cell_type": "code",
   "execution_count": null,
   "metadata": {},
   "outputs": [],
   "source": [
    "ups = re.compile(r\"[A-Z]\")\n",
    "lows = re.compile(r\"[a-z]\")\n",
    "without_ups = ups.sub(\"X\", s)\n",
    "print(without_ups)\n",
    "without_ups = lows.sub(\"X\", s)\n",
    "print(without_ups)"
   ]
  },
  {
   "cell_type": "markdown",
   "metadata": {},
   "source": [
    "These specific patterns are called 'ranges': they will match any lowercase or uppercase letter. You can make a rangeby using  squared brackets. This is the same as the pipe syntax we used earlier. A range just says \"match anything in here\".  "
   ]
  },
  {
   "cell_type": "code",
   "execution_count": null,
   "metadata": {},
   "outputs": [],
   "source": [
    "vowel_pattern = re.compile(r\"[aeoui]\")\n",
    "without_vowels = vowel_pattern.sub(\"X\", s)\n",
    "print(without_vowels)"
   ]
  },
  {
   "cell_type": "markdown",
   "metadata": {},
   "source": [
    "Now let's add uppercase vowels."
   ]
  },
  {
   "cell_type": "code",
   "execution_count": null,
   "metadata": {},
   "outputs": [],
   "source": [
    "vowel_pattern = re.compile(r\"[aeiouAEIOU]\")\n",
    "print(vowel_pattern.sub(\"X\",s))"
   ]
  },
  {
   "cell_type": "markdown",
   "metadata": {},
   "source": [
    "And now let's just leave the vowels behind."
   ]
  },
  {
   "cell_type": "code",
   "execution_count": null,
   "metadata": {},
   "outputs": [],
   "source": [
    "not_vowel_pattern = re.compile(r\"[^aeiouAEIOU]\") # try adding a space into this.\n",
    "print(not_vowel_pattern.sub(\"X\",s))"
   ]
  },
  {
   "cell_type": "markdown",
   "metadata": {},
   "source": [
    "You can also look for more specific, as well as longer letter groups by arranging them with round brackets:"
   ]
  },
  {
   "cell_type": "code",
   "execution_count": null,
   "metadata": {},
   "outputs": [],
   "source": [
    "p = re.compile(r\"(ni)|(si)|(ta)|(ba)|(la)\")\n",
    "print(p.sub(\"XX\", s))"
   ]
  },
  {
   "cell_type": "markdown",
   "metadata": {},
   "source": [
    "There is also a syntax to match any character (except the newline):"
   ]
  },
  {
   "cell_type": "code",
   "execution_count": null,
   "metadata": {},
   "outputs": [],
   "source": [
    "test = '''here is some \n",
    "          text with \n",
    "          a new line.'''\n",
    "\n",
    "any_char = re.compile(r\".\")\n",
    "print(any_char.sub(\"X\", test))"
   ]
  },
  {
   "cell_type": "markdown",
   "metadata": {},
   "source": [
    "If you would like your expression to match an actual dot, you have to escape it using a backslash:"
   ]
  },
  {
   "cell_type": "code",
   "execution_count": null,
   "metadata": {},
   "outputs": [],
   "source": [
    "dot = re.compile(r\"\\.\")\n",
    "print(dot.sub(\"X\", s))"
   ]
  },
  {
   "cell_type": "markdown",
   "metadata": {},
   "source": [
    "There are a number of characters that you might have to escape using a backslash. These characters are reserved to be part of the regular expression language. So if you use them, Python will not take you literally. Characters that you typically might want to escape include:  + ? . * ^ $ ( ) [ ] { } | \\"
   ]
  },
  {
   "cell_type": "code",
   "execution_count": null,
   "metadata": {},
   "outputs": [],
   "source": [
    "s"
   ]
  },
  {
   "cell_type": "code",
   "execution_count": null,
   "metadata": {},
   "outputs": [],
   "source": [
    "s = \"The [insert big school]: We also play a little football.\"\n",
    "brackets_wrong = re.compile(r\"[|]\")\n",
    "print(brackets_wrong.sub(\"X\", s))\n",
    "brackets_right = re.compile(r\"(\\[)|(\\])\")\n",
    "print(brackets_right.sub(\"X\", s))"
   ]
  },
  {
   "cell_type": "markdown",
   "metadata": {},
   "source": [
    "The syntax for regular expression includes a whole range of possibilities which we simply cannot all deal with it here. Because of that we will stick to a number of helpful examples. An interesting feature is that you can specify whether or not a character really has to occur. You can check whether the pattern occurs in a string using the `search()` function which will return `None` if it doesn't find the pattern in the string searched. "
   ]
  },
  {
   "cell_type": "code",
   "execution_count": null,
   "metadata": {},
   "outputs": [],
   "source": [
    "pattern = re.compile(r\"a{2,4}\")\n",
    "print(pattern.search(\"\"))\n",
    "print(pattern.search(\"a\"))\n",
    "print(pattern.search(\"aa\"))\n",
    "print(pattern.search(\"aaa\"))\n",
    "print(pattern.search(\"aaaa\"))\n",
    "print(pattern.search(\"aaaaa\"))\n",
    "print(pattern.search(\"aaaabaaaa\"))"
   ]
  },
  {
   "cell_type": "markdown",
   "metadata": {},
   "source": [
    "With the curly brackets, you indicate that you are only interested in the letter 'a' if it occurs 2,3 or 4 times in a row in the string you search. Because `None` is returned if the search didn't find a match, you can use the outcome of `search()`in an if-statement. The following example shows how you can also use the curly brackets to match an exact number of occurences (in this case three a's)."
   ]
  },
  {
   "cell_type": "code",
   "execution_count": null,
   "metadata": {},
   "outputs": [],
   "source": [
    "pattern = re.compile(r\"a{3}\")\n",
    "if pattern.search(\"aaa\"):\n",
    "    print(\"Found it!\")\n",
    "else:\n",
    "    print(\"Nope...\")\n",
    "# or:\n",
    "if pattern.search(\"aa\"):\n",
    "    print(\"Found it!\")\n",
    "else:\n",
    "    print(\"Nope...\")"
   ]
  },
  {
   "cell_type": "markdown",
   "metadata": {},
   "source": [
    "Using a plus sign you can indicate whether you want to match multiple occurrences of a character. \n",
    "\n",
    "As you well know, double spaces are an artifact from a dark age when we typed on physical machines that smashed ink into this thin, dead-tree material. People who use double spaces are generally a) older than 40 or b) unworthy of love. \n",
    "\n",
    "Let's write some code that gets rid of double spaces."
   ]
  },
  {
   "cell_type": "code",
   "execution_count": null,
   "metadata": {},
   "outputs": [],
   "source": [
    "paper = '''Jason's dissertation on  statistics \n",
    "contains a lot of  double spaces.  I will \n",
    "remove  them.  Because they are the \n",
    "worst.  Right? '''\n",
    "\n",
    "multiple_spaces = re.compile(r\" +\") # note the space before the plus!\n",
    "print(multiple_spaces.sub(\" \", paper))"
   ]
  },
  {
   "cell_type": "markdown",
   "metadata": {},
   "source": [
    "A similar piece of functionality is offered by the asterisk operator: here you can match multiple occurences of the same character in a row OR not a single one. Note the subtle difference with respect to the plus operator, which needs at least a single occurence of the character to match. Here we use the `search()` function which will search the entire string: the `match()` function which we used earlier will only look for matches at the very beginning of a string. Keep this in mind! The final pattern below yields a match, although there is not a single 'x' in the sentence. That is because the pattern with the asterisk says: \"a single x, or no x at all\". "
   ]
  },
  {
   "cell_type": "code",
   "execution_count": null,
   "metadata": {},
   "outputs": [],
   "source": [
    "s = \"In English some letters occur multiple times in a row.\"\n",
    "p1 = re.compile(r\"t\")\n",
    "p2 = re.compile(r\"t*\")\n",
    "p3 = re.compile(r\"x\")\n",
    "p4 = re.compile(r\"x*\")\n",
    "print(p1.search(s))\n",
    "print(p2.search(s))\n",
    "print(p3.search(s))\n",
    "print(p4.search(s))"
   ]
  },
  {
   "cell_type": "markdown",
   "metadata": {},
   "source": [
    "Interestingly, you also use regular expression to search inside words. Can you explain why the following patterns match don't match? "
   ]
  },
  {
   "cell_type": "code",
   "execution_count": null,
   "metadata": {},
   "outputs": [],
   "source": [
    "candidates = [\"good\", \"god\", \"gud\", \"gd\"]\n",
    "p = re.compile(r\"go+d\")\n",
    "for c in candidates:\n",
    "    print(p.search(c))"
   ]
  },
  {
   "cell_type": "markdown",
   "metadata": {},
   "source": [
    "Speaking of words: it might be interesting to know that you can use regular expressions for advanced string splitting. If you want to split a sentence across all whitespace characters for instance, you can use a special character class, `\\s`. This operator will match all whitespace characters, such as tabs, linebreaks, normal spaces etc. If you add a `+` sign, your pattern will match series of whitespace characters: "
   ]
  },
  {
   "cell_type": "code",
   "execution_count": null,
   "metadata": {},
   "outputs": [],
   "source": [
    "s = \"\"\"This is a text  on three   lines\n",
    "with  multiple instances of  \n",
    "double spaces.\"\"\"\n",
    "whitespace = re.compile(r\"\\s+\")\n",
    "print(whitespace.split(s)) #useful"
   ]
  },
  {
   "cell_type": "markdown",
   "metadata": {},
   "source": [
    "If you would have wanted to split on the linebreaks only (possible followed by e.g. spaces), you could have used the following pattern:"
   ]
  },
  {
   "cell_type": "code",
   "execution_count": null,
   "metadata": {},
   "outputs": [],
   "source": [
    "s = \"\"\"This is a text  on three   lines\n",
    "with  multiple instances of  \n",
    "double spaces.\"\"\"\n",
    "whitespace = re.compile(r\"\\s*\\n\\s*\")\n",
    "print(whitespace.split(s))"
   ]
  },
  {
   "cell_type": "markdown",
   "metadata": {},
   "source": [
    "If we want to correct the double spaces, we could now do:    "
   ]
  },
  {
   "cell_type": "code",
   "execution_count": null,
   "metadata": {},
   "outputs": [],
   "source": [
    "ds = re.compile(r\" +\")\n",
    "for line in whitespace.split(s):\n",
    "    print(ds.sub(\" \", line))"
   ]
  },
  {
   "cell_type": "markdown",
   "metadata": {},
   "source": [
    "---\n",
    "\n",
    "Some examples with the nltk corpus."
   ]
  },
  {
   "cell_type": "code",
   "execution_count": null,
   "metadata": {},
   "outputs": [],
   "source": [
    "from nltk.book import *"
   ]
  },
  {
   "cell_type": "code",
   "execution_count": null,
   "metadata": {},
   "outputs": [],
   "source": [
    "from nltk.corpus import words"
   ]
  },
  {
   "cell_type": "markdown",
   "metadata": {},
   "source": [
    "Q: What do these two regular expressions match? "
   ]
  },
  {
   "cell_type": "code",
   "execution_count": null,
   "metadata": {},
   "outputs": [],
   "source": [
    "k_pattern_1 = re.compile(r\"^[a-jl-z].k\")\n",
    "k_pattern_2 = re.compile(r\"^k\")"
   ]
  },
  {
   "cell_type": "markdown",
   "metadata": {},
   "source": [
    "Let's use the regular expression in a list comprehension, to make lists of the matching words. If you weren't sure of the answer to the previous question, looking at these lists will give you the answer. "
   ]
  },
  {
   "cell_type": "code",
   "execution_count": null,
   "metadata": {},
   "outputs": [],
   "source": [
    "group_1 = [w for w in words.words('en') if k_pattern_1.search(w)]\n",
    "group_2 = [w for w in words.words('en') if k_pattern_2.search(w)]"
   ]
  },
  {
   "cell_type": "code",
   "execution_count": null,
   "metadata": {},
   "outputs": [],
   "source": [
    "len(group_1)"
   ]
  },
  {
   "cell_type": "code",
   "execution_count": null,
   "metadata": {},
   "outputs": [],
   "source": [
    "len(group_2)"
   ]
  },
  {
   "cell_type": "code",
   "execution_count": null,
   "metadata": {},
   "outputs": [],
   "source": [
    "moby = Text(gutenberg.words('melville-moby_dick.txt'))"
   ]
  },
  {
   "cell_type": "code",
   "execution_count": null,
   "metadata": {},
   "outputs": [],
   "source": [
    "print(len({w for w in moby if k_pattern_1.search(w)}))\n",
    "print(len({w for w in moby if k_pattern_2.search(w)}))"
   ]
  },
  {
   "cell_type": "code",
   "execution_count": null,
   "metadata": {},
   "outputs": [],
   "source": [
    "{w for w in moby if k_pattern_1.search(w)}"
   ]
  }
 ],
 "metadata": {
  "kernelspec": {
   "display_name": "Python 3",
   "language": "python",
   "name": "python3"
  },
  "language_info": {
   "codemirror_mode": {
    "name": "ipython",
    "version": 3
   },
   "file_extension": ".py",
   "mimetype": "text/x-python",
   "name": "python",
   "nbconvert_exporter": "python",
   "pygments_lexer": "ipython3",
   "version": "3.7.3"
  }
 },
 "nbformat": 4,
 "nbformat_minor": 1
}
